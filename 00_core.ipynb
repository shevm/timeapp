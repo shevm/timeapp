{
 "cells": [
  {
   "cell_type": "code",
   "execution_count": null,
   "metadata": {},
   "outputs": [],
   "source": [
    "# default_exp core"
   ]
  },
  {
   "cell_type": "markdown",
   "metadata": {},
   "source": [
    "# module name here\n",
    "\n",
    "> API details."
   ]
  },
  {
   "cell_type": "code",
   "execution_count": null,
   "metadata": {},
   "outputs": [],
   "source": [
    "#hide\n",
    "from nbdev.showdoc import *\n",
    "\n",
    "%load_ext autoreload\n",
    "%autoreload 2"
   ]
  },
  {
   "cell_type": "code",
   "execution_count": null,
   "metadata": {},
   "outputs": [],
   "source": [
    "# export\n",
    "import numpy as np\n",
    "import pandas as pd\n",
    "import ipywidgets as w\n",
    "\n",
    "import datetime as dt\n",
    "\n",
    "from functools import partial"
   ]
  },
  {
   "cell_type": "code",
   "execution_count": null,
   "metadata": {},
   "outputs": [],
   "source": [
    "tasks = [\n",
    "    'Project1:Task1',\n",
    "    'Project1:Task2',\n",
    "    'Project2:Task1',\n",
    "    'Project2:Task2',\n",
    "]"
   ]
  },
  {
   "cell_type": "code",
   "execution_count": null,
   "metadata": {},
   "outputs": [],
   "source": [
    "# export\n",
    "class Timeapp:\n",
    "    def __init__(self, tasks):\n",
    "        self.tasks = tasks\n",
    "        self.n_rows = len(tasks)\n",
    "        self.n_cols = 4\n",
    "        self.app = w.AppLayout(header=None,\n",
    "                               left_sidebar=None,\n",
    "                               center=None,\n",
    "                               right_sidebar=None,\n",
    "                               footer=None)\n",
    "        self._app_setup()\n",
    "    \n",
    "    def _app_setup(self):\n",
    "        self.app.header = w.HTML('<h1>Timeapp</h1>')\n",
    "        self.app.left_sidebar = None\n",
    "        \n",
    "        self.app.center = w.GridspecLayout(self.n_rows, self.n_cols, height='auto')\n",
    "        task_labels = [w.Label(x) for x in self.tasks]\n",
    "        self._set_column(0, task_labels, value=False)\n",
    "        task_values = [w.Label(str(o)) for o in np.zeros(self.n_rows, dtype=np.int32)]\n",
    "        self._set_column(1, task_values, value=False)\n",
    "        \n",
    "        self.app.footer = w.DatePicker(value=dt.date.today())\n",
    "        \n",
    "        self._create_buttons(mins=15)\n",
    "        \n",
    "    def _get_grid_object(self, row, col):\n",
    "        return self.app.center[row, col]\n",
    "    \n",
    "    def _set_grid_object(self, row, col, item):\n",
    "        self.app.center[row, col] = item\n",
    "        \n",
    "    def _get_grid_value(self, row, col):\n",
    "        return self.app.center[row, col].value\n",
    "    \n",
    "    def _set_grid_value(self, row, col, value):\n",
    "        self.app.center[row, col].value = value\n",
    "    \n",
    "    def _get_column(self, column, value=True):\n",
    "        if value:\n",
    "            items = [self._get_grid_value(i, column) for i in range(self.n_rows)]\n",
    "        else:\n",
    "            items = [self._get_grid_object(i, column) for i in range(self.n_rows)]\n",
    "        return items\n",
    "    \n",
    "    def _set_column(self, column, items, value=True):\n",
    "        if value:\n",
    "            for i in range(self.n_rows):\n",
    "                self._set_grid_value(i, column, items[i])\n",
    "        else:\n",
    "            for i in range(self.n_rows):\n",
    "                self._set_grid_object(i, column, items[i])\n",
    "    \n",
    "    def _handle_update_time(self, b, row, mins):\n",
    "        curr_value = int(self._get_grid_value(row, 1))\n",
    "        self._set_grid_value(row, 1, str(curr_value + mins))\n",
    "    \n",
    "    @staticmethod\n",
    "    def _create_expanded_button(description, **kwargs):\n",
    "        return w.Button(description=description, layout=w.Layout(height='auto', width='auto'), **kwargs)\n",
    "    \n",
    "    def _create_buttons(self, mins=15):\n",
    "        plus_buttons = [self._create_expanded_button(description=str(mins), icon='plus') for i in range(self.n_rows)]\n",
    "        plus_time_handlers = [partial(self._handle_update_time, row=i, mins=mins) for i in range(self.n_rows)]\n",
    "        for i, o in enumerate(plus_buttons):\n",
    "            o.on_click(plus_time_handlers[i])\n",
    "        self._set_column(2, plus_buttons, value=False)\n",
    "            \n",
    "        minus_buttons = [self._create_expanded_button(description=str(mins), icon='minus') for i in range(self.n_rows)]\n",
    "        minus_time_handlers = [partial(self._handle_update_time, row=i, mins=-mins) for i in range(self.n_rows)]\n",
    "        for i, o in enumerate(minus_buttons):\n",
    "            o.on_click(minus_time_handlers[i])\n",
    "        self._set_column(3, minus_buttons, value=False)\n",
    "\n",
    "    def to_df(self):\n",
    "        tasks = self._get_column(0)\n",
    "        vals = self._get_column(1)\n",
    "        return pd.DataFrame({'tasks': tasks, 'time': vals}, index=[self.app.footer.value] * self.n_rows)"
   ]
  },
  {
   "cell_type": "code",
   "execution_count": null,
   "metadata": {},
   "outputs": [
    {
     "name": "stdout",
     "output_type": "stream",
     "text": [
      "Converted 00_core.ipynb.\n",
      "Converted index.ipynb.\n"
     ]
    }
   ],
   "source": [
    "# hide\n",
    "from nbdev.export import notebook2script; notebook2script()"
   ]
  },
  {
   "cell_type": "code",
   "execution_count": null,
   "metadata": {},
   "outputs": [],
   "source": []
  }
 ],
 "metadata": {
  "kernelspec": {
   "display_name": "Python [conda env:timeapp]",
   "language": "python",
   "name": "conda-env-timeapp-py"
  }
 },
 "nbformat": 4,
 "nbformat_minor": 4
}
